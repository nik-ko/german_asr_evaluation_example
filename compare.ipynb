{
 "cells": [
  {
   "metadata": {},
   "cell_type": "markdown",
   "source": [
    "# ASR evaluation example\n",
    "\n",
    "## Read files"
   ],
   "id": "de23aacc28d0b403"
  },
  {
   "metadata": {
    "collapsed": true,
    "ExecuteTime": {
     "end_time": "2024-10-02T10:10:14.154294Z",
     "start_time": "2024-10-02T10:10:14.136238Z"
    }
   },
   "cell_type": "code",
   "source": [
    "from util import read_transcript_file, diff_html, eval\n",
    "gt = read_transcript_file('data/manual_transcript.txt')\n",
    "pred = read_transcript_file('data/prediction.txt')  "
   ],
   "id": "initial_id",
   "outputs": [],
   "execution_count": 1
  },
  {
   "metadata": {
    "ExecuteTime": {
     "end_time": "2024-10-02T10:10:14.167894Z",
     "start_time": "2024-10-02T10:10:14.161102Z"
    }
   },
   "cell_type": "code",
   "source": "gt",
   "id": "80f0a0d4247ce264",
   "outputs": [
    {
     "data": {
      "text/plain": [
       "'This is an example (with errors) in the prediction file. Missing in prediction. It also includes a German number:\\nNeunzehnhundertvierzehn that is 1914 as a number.\\n'"
      ]
     },
     "execution_count": 2,
     "metadata": {},
     "output_type": "execute_result"
    }
   ],
   "execution_count": 2
  },
  {
   "metadata": {
    "ExecuteTime": {
     "end_time": "2024-10-02T10:10:14.269679Z",
     "start_time": "2024-10-02T10:10:14.266405Z"
    }
   },
   "cell_type": "code",
   "source": "pred",
   "id": "e6bacd191577c989",
   "outputs": [
    {
     "data": {
      "text/plain": [
       "'This is an added word example - without any errors - in the manual transcript file, it also includes a German number;\\n1914 that is Neunzehnhundertvierzehn as a word.\\n'"
      ]
     },
     "execution_count": 3,
     "metadata": {},
     "output_type": "execute_result"
    }
   ],
   "execution_count": 3
  },
  {
   "metadata": {},
   "cell_type": "markdown",
   "source": "## WER",
   "id": "3fea4255763cfc0f"
  },
  {
   "metadata": {
    "ExecuteTime": {
     "end_time": "2024-10-02T10:10:14.381389Z",
     "start_time": "2024-10-02T10:10:14.376518Z"
    }
   },
   "cell_type": "code",
   "source": "eval(gt, pred)",
   "id": "3be85a8689e817e9",
   "outputs": [
    {
     "data": {
      "text/plain": [
       "0.38461538461538464"
      ]
     },
     "execution_count": 4,
     "metadata": {},
     "output_type": "execute_result"
    }
   ],
   "execution_count": 4
  },
  {
   "metadata": {},
   "cell_type": "markdown",
   "source": "## Visualization\n",
   "id": "763a96265f06c529"
  },
  {
   "metadata": {
    "ExecuteTime": {
     "end_time": "2024-10-02T10:10:14.439747Z",
     "start_time": "2024-10-02T10:10:14.435303Z"
    }
   },
   "cell_type": "code",
   "source": "diff_html(gt, pred, \"comparison.html\")",
   "id": "4ad891480fecd6a9",
   "outputs": [
    {
     "data": {
      "text/plain": [
       "<IPython.core.display.HTML object>"
      ],
      "text/html": [
       "<html><head><meta charset=\"UTF-8\"><style>    \n",
       "    .highlight-inserted {\n",
       "      background: #7fff7f;\n",
       "      text-decoration: none; /* Remove underline if desired */\n",
       "    }\n",
       "    .highlight-deleted {\n",
       "      background: #ff7f7f;\n",
       "      text-decoration: line-through; \n",
       "    }\n",
       "    .highlight-deleted2 {\n",
       "      background: #ffd27f;\n",
       "      text-decoration: line-through;\n",
       "    }\n",
       "    .highlight-inserted2 {\n",
       "      background: #7fdfff;      \n",
       "    }</style></head><body><p>Legend:</p><ul><li><span class=\"highlight-deleted\">Wrong words (ASR)</span> that need to be replaced by <span class=\"highlight-inserted\">correct words (from manual transcript)</span></li><li><span class=\"highlight-deleted2\">Words wrongly inserted by ASR</span></li><li><span class=\"highlight-inserted2\">Words missing in ASR</span></li></ul><p>Comparison:</p><p>This is an \n",
       "<span class=\"highlight-deleted2\">added</span> <span class=\"highlight-deleted2\">word</span> \n",
       "example \n",
       "<span class=\"highlight-deleted\">without any</span><span class=\"highlight-inserted\">(with</span> \n",
       "errors) in the \n",
       "<span class=\"highlight-deleted\">manual transcript</span><span class=\"highlight-inserted\">prediction</span> \n",
       "file. \n",
       "<span class=\"highlight-inserted2\">Missing</span> <span class=\"highlight-inserted2\">in</span> <span class=\"highlight-inserted2\">prediction.</span> \n",
       "It also includes a German number: Neunzehnhundertvierzehn that is 1914 as a \n",
       "<span class=\"highlight-deleted\">word.</span><span class=\"highlight-inserted\">number.</span> \n",
       "</p></body></html>"
      ]
     },
     "execution_count": 5,
     "metadata": {},
     "output_type": "execute_result"
    }
   ],
   "execution_count": 5
  }
 ],
 "metadata": {
  "kernelspec": {
   "display_name": "Python 3",
   "language": "python",
   "name": "python3"
  },
  "language_info": {
   "codemirror_mode": {
    "name": "ipython",
    "version": 2
   },
   "file_extension": ".py",
   "mimetype": "text/x-python",
   "name": "python",
   "nbconvert_exporter": "python",
   "pygments_lexer": "ipython2",
   "version": "2.7.6"
  }
 },
 "nbformat": 4,
 "nbformat_minor": 5
}
